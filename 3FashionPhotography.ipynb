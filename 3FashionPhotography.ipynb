{
  "nbformat": 4,
  "nbformat_minor": 0,
  "metadata": {
    "colab": {
      "provenance": []
    },
    "kernelspec": {
      "name": "python3",
      "display_name": "Python 3"
    },
    "language_info": {
      "name": "python"
    }
  },
  "cells": [
    {
      "cell_type": "code",
      "source": [
        "import torch\n",
        "import torchvision.transforms as transforms\n",
        "from PIL import Image\n",
        "import matplotlib.pyplot as plt\n",
        "import torch.nn as nn\n",
        "\n",
        "# Define the Generator (GAN) model for denoising\n",
        "class Generator(nn.Module):\n",
        "    def __init__(self):\n",
        "        super(Generator, self).__init__()\n",
        "        self.model = nn.Sequential(\n",
        "            nn.Conv2d(3, 64, kernel_size=3, stride=1, padding=1),\n",
        "            nn.BatchNorm2d(64),\n",
        "            nn.ReLU(inplace=True),\n",
        "            nn.Conv2d(64, 64, kernel_size=3, stride=1, padding=1),\n",
        "            nn.BatchNorm2d(64),\n",
        "            nn.ReLU(inplace=True),\n",
        "            nn.ConvTranspose2d(64, 3, kernel_size=3, stride=1, padding=1),\n",
        "            nn.Tanh()\n",
        "        )\n",
        "\n",
        "    def forward(self, x):\n",
        "        return self.model(x)\n",
        "\n",
        "# Load pre-trained GAN model\n",
        "model = Generator()\n",
        "model.load_state_dict(torch.load('path_to_pretrained_gan.pth', map_location=torch.device('cpu')))\n",
        "model.eval()\n",
        "\n",
        "# Define transform to convert image to tensor\n",
        "transform = transforms.Compose([\n",
        "    transforms.Resize(256),\n",
        "    transforms.CenterCrop(224),\n",
        "    transforms.ToTensor(),\n",
        "])\n",
        "\n",
        "# Load fashion photograph\n",
        "fashion_image_path = 'path_to_fashion_photograph.jpg'\n",
        "fashion_image = Image.open(fashion_image_path).convert('RGB')\n",
        "\n",
        "# Apply transformation\n",
        "image_tensor = transform(fashion_image).unsqueeze(0)\n",
        "\n",
        "# Denoise the image using the GAN\n",
        "with torch.no_grad():\n",
        "    denoised_image = model(image_tensor)\n",
        "\n",
        "# Convert the denoised tensor back to an image\n",
        "denoised_image = denoised_image.squeeze(0).permute(1, 2, 0).clamp(0, 1).numpy()\n",
        "\n",
        "# Display the original and denoised images\n",
        "plt.figure(figsize=(10, 5))\n",
        "\n",
        "plt.subplot(1, 2, 1)\n",
        "plt.title('Original Fashion Photograph')\n",
        "plt.imshow(fashion_image)\n",
        "plt.axis('off')\n",
        "\n",
        "plt.subplot(1, 2, 2)\n",
        "plt.title('Denoised Fashion Photograph (Using GAN)')\n",
        "plt.imshow(denoised_image)\n",
        "plt.axis('off')\n",
        "\n",
        "plt.show()\n"
      ],
      "metadata": {
        "id": "2HXaAUXrjnT7"
      },
      "execution_count": null,
      "outputs": []
    }
  ]
}