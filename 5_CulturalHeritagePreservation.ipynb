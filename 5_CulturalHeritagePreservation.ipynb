{
  "nbformat": 4,
  "nbformat_minor": 0,
  "metadata": {
    "colab": {
      "provenance": []
    },
    "kernelspec": {
      "name": "python3",
      "display_name": "Python 3"
    },
    "language_info": {
      "name": "python"
    }
  },
  "cells": [
    {
      "cell_type": "code",
      "execution_count": null,
      "metadata": {
        "id": "1tOZb5Rv0QIm"
      },
      "outputs": [],
      "source": [
        "import torch\n",
        "import torchvision.transforms as transforms\n",
        "from PIL import Image\n",
        "import matplotlib.pyplot as plt\n",
        "\n",
        "# Load pre-trained restoration GAN model\n",
        "restoration_gan_model = torch.load('restoration_gan_model.pth', map_location=torch.device('cpu'))\n",
        "restoration_gan_model.eval()\n",
        "\n",
        "# Define transform to convert image to tensor\n",
        "transform = transforms.Compose([\n",
        "    transforms.Resize(256),\n",
        "    transforms.CenterCrop(256),\n",
        "    transforms.ToTensor(),\n",
        "])\n",
        "\n",
        "# Load historical photograph of cultural heritage site\n",
        "image_path = 'path_to_historical_photograph.jpg'\n",
        "image = Image.open(image_path).convert('RGB')\n",
        "\n",
        "# Apply transformation\n",
        "image_tensor = transform(image).unsqueeze(0)\n",
        "\n",
        "# Restore and denoise the image using the pre-trained restoration GAN model\n",
        "with torch.no_grad():\n",
        "    restored_image = restoration_gan_model(image_tensor)\n",
        "\n",
        "# Convert the restored tensor back to an image\n",
        "restored_image = restored_image.squeeze(0).permute(1, 2, 0).clamp(0, 1).numpy()\n",
        "\n",
        "# Display the original and restored images\n",
        "plt.figure(figsize=(10, 5))\n",
        "\n",
        "plt.subplot(1, 2, 1)\n",
        "plt.title('Original Image')\n",
        "plt.imshow(image)\n",
        "plt.axis('off')\n",
        "\n",
        "plt.subplot(1, 2, 2)\n",
        "plt.title('Restored and Denoised Image (GAN)')\n",
        "plt.imshow(restored_image)\n",
        "plt.axis('off')\n",
        "\n",
        "plt.show()\n"
      ]
    }
  ]
}